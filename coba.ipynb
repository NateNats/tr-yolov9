{
 "cells": [
  {
   "cell_type": "code",
   "execution_count": 1,
   "metadata": {},
   "outputs": [
    {
     "name": "stdout",
     "output_type": "stream",
     "text": [
      "c:\\Sinau\\UAS - Pembelajaran Mesin\n"
     ]
    }
   ],
   "source": [
    "import os\n",
    "home = os.getcwd()\n",
    "print(home)"
   ]
  },
  {
   "cell_type": "code",
   "execution_count": 2,
   "metadata": {},
   "outputs": [
    {
     "name": "stdout",
     "output_type": "stream",
     "text": [
      "Wed Jun 12 03:24:09 2024       \n",
      "+-----------------------------------------------------------------------------------------+\n",
      "| NVIDIA-SMI 555.85                 Driver Version: 555.85         CUDA Version: 12.5     |\n",
      "|-----------------------------------------+------------------------+----------------------+\n",
      "| GPU  Name                  Driver-Model | Bus-Id          Disp.A | Volatile Uncorr. ECC |\n",
      "| Fan  Temp   Perf          Pwr:Usage/Cap |           Memory-Usage | GPU-Util  Compute M. |\n",
      "|                                         |                        |               MIG M. |\n",
      "|=========================================+========================+======================|\n",
      "|   0  NVIDIA GeForce RTX 3050 ...  WDDM  |   00000000:01:00.0 Off |                  N/A |\n",
      "| N/A   51C    P0             15W /   90W |     969MiB /   4096MiB |     42%      Default |\n",
      "|                                         |                        |                  N/A |\n",
      "+-----------------------------------------+------------------------+----------------------+\n",
      "                                                                                         \n",
      "+-----------------------------------------------------------------------------------------+\n",
      "| Processes:                                                                              |\n",
      "|  GPU   GI   CI        PID   Type   Process name                              GPU Memory |\n",
      "|        ID   ID                                                               Usage      |\n",
      "|=========================================================================================|\n",
      "|    0   N/A  N/A      1156    C+G   ....0.31351_x64__ttt1ap7aakyb4\\Arc.exe      N/A      |\n",
      "|    0   N/A  N/A      7584    C+G   ....0.31351_x64__ttt1ap7aakyb4\\Arc.exe      N/A      |\n",
      "|    0   N/A  N/A     11440    C+G   ...2txyewy\\StartMenuExperienceHost.exe      N/A      |\n",
      "|    0   N/A  N/A     11448    C+G   ...nt.CBS_cw5n1h2txyewy\\SearchHost.exe      N/A      |\n",
      "|    0   N/A  N/A     13792    C+G   ...CBS_cw5n1h2txyewy\\TextInputHost.exe      N/A      |\n",
      "|    0   N/A  N/A     13940    C+G   ...ekyb3d8bbwe\\PhoneExperienceHost.exe      N/A      |\n",
      "|    0   N/A  N/A     14368    C+G   ...315.0_x64__dt26b99r8h8gj\\RtkUWP.exe      N/A      |\n",
      "|    0   N/A  N/A     15220    C+G   ...7.0_x64__cv1g1gvanyjgm\\WhatsApp.exe      N/A      |\n",
      "|    0   N/A  N/A     16512    C+G   ...ys\\WinUI3Apps\\PowerToys.Peek.UI.exe      N/A      |\n",
      "|    0   N/A  N/A     16872    C+G   ...werToys\\PowerToys.PowerLauncher.exe      N/A      |\n",
      "|    0   N/A  N/A     17536    C+G   ...al\\Discord\\app-1.0.9148\\Discord.exe      N/A      |\n",
      "|    0   N/A  N/A     19532    C+G   ...ta\\Local\\Programs\\Notion\\Notion.exe      N/A      |\n",
      "|    0   N/A  N/A     20820    C+G   ...pcy8vm99wrpcg\\ModernFlyoutsHost.exe      N/A      |\n",
      "|    0   N/A  N/A     20848    C+G   ...on\\125.0.2535.92\\msedgewebview2.exe      N/A      |\n",
      "|    0   N/A  N/A     21024    C+G   ...64__v826wp6bftszj\\TranslucentTB.exe      N/A      |\n",
      "|    0   N/A  N/A     25564    C+G   ...AppData\\Roaming\\Spotify\\Spotify.exe      N/A      |\n",
      "|    0   N/A  N/A     25688    C+G   ...Programs\\Microsoft VS Code\\Code.exe      N/A      |\n",
      "+-----------------------------------------------------------------------------------------+\n"
     ]
    }
   ],
   "source": [
    "!nvidia-smi"
   ]
  },
  {
   "cell_type": "code",
   "execution_count": 4,
   "metadata": {},
   "outputs": [
    {
     "name": "stderr",
     "output_type": "stream",
     "text": [
      "fatal: destination path 'yolov9' already exists and is not an empty directory.\n"
     ]
    }
   ],
   "source": [
    "!git clone https://github.com/SkalskiP/yolov9.git"
   ]
  },
  {
   "cell_type": "code",
   "execution_count": 6,
   "metadata": {},
   "outputs": [
    {
     "name": "stdout",
     "output_type": "stream",
     "text": [
      "c:\\Sinau\\UAS - Pembelajaran Mesin\\yolov9\n"
     ]
    }
   ],
   "source": [
    "%cd yolov9"
   ]
  },
  {
   "cell_type": "code",
   "execution_count": 7,
   "metadata": {},
   "outputs": [],
   "source": [
    "!pip install -r requirements.txt -q"
   ]
  },
  {
   "cell_type": "code",
   "execution_count": 28,
   "metadata": {},
   "outputs": [
    {
     "name": "stdout",
     "output_type": "stream",
     "text": [
      " Volume in drive C has no label.\n",
      " Volume Serial Number is 9E9E-0F1A\n",
      "\n",
      " Directory of c:\\Sinau\\UAS - Pembelajaran Mesin\\yolov9\n",
      "\n",
      "06/12/2024  12:22 AM    <DIR>          .\n",
      "06/12/2024  01:39 AM    <DIR>          ..\n",
      "06/11/2024  11:43 PM             6,409 benchmarks.py\n",
      "06/11/2024  11:43 PM    <DIR>          classify\n",
      "06/11/2024  11:43 PM    <DIR>          data\n",
      "06/11/2024  11:43 PM            12,542 detect.py\n",
      "06/11/2024  11:43 PM            29,410 export.py\n",
      "06/11/2024  11:43 PM    <DIR>          figure\n",
      "06/11/2024  11:43 PM             4,762 hubconf.py\n",
      "06/11/2024  11:43 PM    <DIR>          models\n",
      "06/11/2024  11:43 PM    <DIR>          panoptic\n",
      "06/11/2024  11:43 PM             6,633 README.md\n",
      "06/11/2024  11:43 PM             1,120 requirements.txt\n",
      "06/11/2024  11:43 PM    <DIR>          scripts\n",
      "06/11/2024  11:43 PM    <DIR>          segment\n",
      "06/11/2024  11:43 PM            34,430 train.py\n",
      "06/11/2024  11:43 PM            34,956 train_dual.py\n",
      "06/11/2024  11:43 PM            34,465 train_triple.py\n",
      "06/11/2024  11:43 PM    <DIR>          utils\n",
      "06/11/2024  11:43 PM            19,870 val.py\n",
      "06/11/2024  11:43 PM            19,988 val_dual.py\n",
      "06/11/2024  11:43 PM            19,940 val_triple.py\n",
      "06/12/2024  01:54 AM    <DIR>          weights\n",
      "              12 File(s)        224,525 bytes\n",
      "              11 Dir(s)  16,592,887,808 bytes free\n"
     ]
    }
   ],
   "source": [
    "%ls"
   ]
  },
  {
   "cell_type": "markdown",
   "metadata": {},
   "source": [
    "**Download model weight**"
   ]
  },
  {
   "cell_type": "code",
   "execution_count": 37,
   "metadata": {},
   "outputs": [
    {
     "name": "stdout",
     "output_type": "stream",
     "text": [
      "['yolov9-c.pt']\n",
      "['yolov9-c.pt', 'yolov9-e.pt']\n",
      "['gelan-c.pt', 'yolov9-c.pt', 'yolov9-e.pt']\n",
      "['gelan-c.pt', 'gelan-e.pt', 'yolov9-c.pt', 'yolov9-e.pt']\n"
     ]
    }
   ],
   "source": [
    "weights_dir = os.path.join(home, 'weights')\n",
    "os.makedirs(weights_dir, exist_ok=True)\n",
    "\n",
    "os.chdir(weights_dir)\n",
    "\n",
    "urls = [\n",
    "    'curl -LO https://github.com/WongKinYiu/yolov9/releases/download/v0.1/yolov9-c.pt',\n",
    "    'curl -LO https://github.com/WongKinYiu/yolov9/releases/download/v0.1/yolov9-e.pt',\n",
    "    'curl -LO https://github.com/WongKinYiu/yolov9/releases/download/v0.1/gelan-c.pt',\n",
    "    'curl -LO https://github.com/WongKinYiu/yolov9/releases/download/v0.1/gelan-e.pt',\n",
    "]\n",
    "\n",
    "for url in urls:\n",
    "    os.system(url)\n",
    "    print(os.listdir(weights_dir))"
   ]
  },
  {
   "cell_type": "code",
   "execution_count": 4,
   "metadata": {},
   "outputs": [],
   "source": [
    "from IPython.display import Image"
   ]
  },
  {
   "cell_type": "code",
   "execution_count": 43,
   "metadata": {},
   "outputs": [
    {
     "name": "stderr",
     "output_type": "stream",
     "text": [
      "  % Total    % Received % Xferd  Average Speed   Time    Time     Time  Current\n",
      "                                 Dload  Upload   Total   Spent    Left  Speed\n",
      "\n",
      "  0     0    0     0    0     0      0      0 --:--:-- --:--:-- --:--:--     0\n",
      "  1  103k    1  2063    0     0   2641      0  0:00:40 --:--:--  0:00:40  2644\n",
      "100  103k  100  103k    0     0   120k      0 --:--:-- --:--:-- --:--:--  120k\n"
     ]
    }
   ],
   "source": [
    "!curl -LO https://media.roboflow.com/notebooks/examples/dog.jpeg"
   ]
  },
  {
   "cell_type": "code",
   "execution_count": 13,
   "metadata": {},
   "outputs": [
    {
     "name": "stdout",
     "output_type": "stream",
     "text": [
      "c:\\Sinau\\UAS - Pembelajaran Mesin\\yolov9\n"
     ]
    }
   ],
   "source": [
    "%cd yolov9"
   ]
  },
  {
   "cell_type": "code",
   "execution_count": 15,
   "metadata": {},
   "outputs": [
    {
     "name": "stderr",
     "output_type": "stream",
     "text": [
      "\u001b[34m\u001b[1mdetect: \u001b[0mweights=['gelan-c.pt'], source=dog.jpeg, data=data\\coco128.yaml, imgsz=[640, 640], conf_thres=0.25, iou_thres=0.45, max_det=1000, device=cpu, view_img=False, save_txt=False, save_conf=False, save_crop=False, nosave=False, classes=None, agnostic_nms=False, augment=False, visualize=False, update=False, project=runs\\detect, name=exp, exist_ok=False, line_thickness=3, hide_labels=False, hide_conf=False, half=False, dnn=False, vid_stride=1\n",
      "fatal: cannot change to 'C:\\Sinau\\UAS': No such file or directory\n",
      "YOLOv5  2024-6-11 Python-3.11.0 torch-2.2.2+cpu CPU\n",
      "\n",
      "Fusing layers... \n",
      "Model summary: 467 layers, 25472640 parameters, 0 gradients, 102.8 GFLOPs\n",
      "image 1/1 C:\\Sinau\\UAS - Pembelajaran Mesin\\yolov9\\dog.jpeg: 640x384 1 person, 1 car, 1 dog, 503.5ms\n",
      "Speed: 1.5ms pre-process, 503.5ms inference, 18.0ms NMS per image at shape (1, 3, 640, 640)\n",
      "Results saved to \u001b[1mruns\\detect\\exp2\u001b[0m\n"
     ]
    }
   ],
   "source": [
    "!python detect.py --weights gelan-c.pt --source dog.jpeg --device cpu"
   ]
  },
  {
   "cell_type": "code",
   "execution_count": 16,
   "metadata": {},
   "outputs": [
    {
     "name": "stderr",
     "output_type": "stream",
     "text": [
      "\u001b[34m\u001b[1mdetect: \u001b[0mweights=['gelan-c.pt'], source=volley.jpg, data=data\\coco128.yaml, imgsz=[640, 640], conf_thres=0.25, iou_thres=0.45, max_det=1000, device=cpu, view_img=False, save_txt=False, save_conf=False, save_crop=False, nosave=False, classes=None, agnostic_nms=False, augment=False, visualize=False, update=False, project=runs\\detect, name=exp, exist_ok=False, line_thickness=3, hide_labels=False, hide_conf=False, half=False, dnn=False, vid_stride=1\n",
      "fatal: cannot change to 'C:\\Sinau\\UAS': No such file or directory\n",
      "YOLOv5  2024-6-11 Python-3.11.0 torch-2.2.2+cpu CPU\n",
      "\n",
      "Fusing layers... \n",
      "Model summary: 467 layers, 25472640 parameters, 0 gradients, 102.8 GFLOPs\n",
      "image 1/1 C:\\Sinau\\UAS - Pembelajaran Mesin\\yolov9\\volley.jpg: 448x640 12 persons, 1 sports ball, 692.7ms\n",
      "Speed: 1.0ms pre-process, 692.7ms inference, 2.5ms NMS per image at shape (1, 3, 640, 640)\n",
      "Results saved to \u001b[1mruns\\detect\\exp3\u001b[0m\n"
     ]
    }
   ],
   "source": [
    "!python detect.py --weights gelan-c.pt --source volley.jpg --device cpu"
   ]
  },
  {
   "cell_type": "code",
   "execution_count": 18,
   "metadata": {},
   "outputs": [
    {
     "name": "stderr",
     "output_type": "stream",
     "text": [
      "\u001b[34m\u001b[1mdetect: \u001b[0mweights=['gelan-c.pt'], source=traffic.mp4, data=data\\coco128.yaml, imgsz=[640, 640], conf_thres=0.25, iou_thres=0.45, max_det=1000, device=cpu, view_img=False, save_txt=False, save_conf=False, save_crop=False, nosave=False, classes=None, agnostic_nms=False, augment=False, visualize=False, update=False, project=runs\\detect, name=exp, exist_ok=False, line_thickness=3, hide_labels=False, hide_conf=False, half=False, dnn=False, vid_stride=1\n",
      "fatal: cannot change to 'C:\\Sinau\\UAS': No such file or directory\n",
      "YOLOv5  2024-6-11 Python-3.11.0 torch-2.2.2+cpu CPU\n",
      "\n",
      "Fusing layers... \n",
      "Model summary: 467 layers, 25472640 parameters, 0 gradients, 102.8 GFLOPs\n",
      "video 1/1 (1/313) C:\\Sinau\\UAS - Pembelajaran Mesin\\yolov9\\traffic.mp4: 384x640 1 person, 25 cars, 4 buss, 470.0ms\n",
      "video 1/1 (2/313) C:\\Sinau\\UAS - Pembelajaran Mesin\\yolov9\\traffic.mp4: 384x640 1 person, 25 cars, 4 buss, 474.6ms\n",
      "video 1/1 (3/313) C:\\Sinau\\UAS - Pembelajaran Mesin\\yolov9\\traffic.mp4: 384x640 1 person, 25 cars, 4 buss, 441.7ms\n",
      "video 1/1 (4/313) C:\\Sinau\\UAS - Pembelajaran Mesin\\yolov9\\traffic.mp4: 384x640 1 person, 23 cars, 4 buss, 430.4ms\n",
      "video 1/1 (5/313) C:\\Sinau\\UAS - Pembelajaran Mesin\\yolov9\\traffic.mp4: 384x640 1 person, 25 cars, 4 buss, 423.4ms\n",
      "video 1/1 (6/313) C:\\Sinau\\UAS - Pembelajaran Mesin\\yolov9\\traffic.mp4: 384x640 1 person, 25 cars, 4 buss, 448.9ms\n",
      "video 1/1 (7/313) C:\\Sinau\\UAS - Pembelajaran Mesin\\yolov9\\traffic.mp4: 384x640 1 person, 26 cars, 4 buss, 439.7ms\n",
      "video 1/1 (8/313) C:\\Sinau\\UAS - Pembelajaran Mesin\\yolov9\\traffic.mp4: 384x640 1 person, 28 cars, 4 buss, 460.2ms\n",
      "video 1/1 (9/313) C:\\Sinau\\UAS - Pembelajaran Mesin\\yolov9\\traffic.mp4: 384x640 2 persons, 27 cars, 4 buss, 431.5ms\n",
      "video 1/1 (10/313) C:\\Sinau\\UAS - Pembelajaran Mesin\\yolov9\\traffic.mp4: 384x640 2 persons, 28 cars, 4 buss, 444.9ms\n",
      "video 1/1 (11/313) C:\\Sinau\\UAS - Pembelajaran Mesin\\yolov9\\traffic.mp4: 384x640 2 persons, 27 cars, 4 buss, 452.7ms\n",
      "video 1/1 (12/313) C:\\Sinau\\UAS - Pembelajaran Mesin\\yolov9\\traffic.mp4: 384x640 2 persons, 25 cars, 4 buss, 429.4ms\n",
      "video 1/1 (13/313) C:\\Sinau\\UAS - Pembelajaran Mesin\\yolov9\\traffic.mp4: 384x640 3 persons, 25 cars, 4 buss, 463.5ms\n",
      "video 1/1 (14/313) C:\\Sinau\\UAS - Pembelajaran Mesin\\yolov9\\traffic.mp4: 384x640 4 persons, 25 cars, 4 buss, 452.5ms\n",
      "video 1/1 (15/313) C:\\Sinau\\UAS - Pembelajaran Mesin\\yolov9\\traffic.mp4: 384x640 2 persons, 23 cars, 4 buss, 519.8ms\n",
      "video 1/1 (16/313) C:\\Sinau\\UAS - Pembelajaran Mesin\\yolov9\\traffic.mp4: 384x640 1 person, 24 cars, 4 buss, 456.2ms\n",
      "video 1/1 (17/313) C:\\Sinau\\UAS - Pembelajaran Mesin\\yolov9\\traffic.mp4: 384x640 1 person, 23 cars, 4 buss, 439.9ms\n",
      "video 1/1 (18/313) C:\\Sinau\\UAS - Pembelajaran Mesin\\yolov9\\traffic.mp4: 384x640 1 person, 25 cars, 4 buss, 436.5ms\n",
      "video 1/1 (19/313) C:\\Sinau\\UAS - Pembelajaran Mesin\\yolov9\\traffic.mp4: 384x640 25 cars, 5 buss, 422.4ms\n",
      "video 1/1 (20/313) C:\\Sinau\\UAS - Pembelajaran Mesin\\yolov9\\traffic.mp4: 384x640 25 cars, 5 buss, 451.0ms\n",
      "video 1/1 (21/313) C:\\Sinau\\UAS - Pembelajaran Mesin\\yolov9\\traffic.mp4: 384x640 25 cars, 4 buss, 505.1ms\n",
      "video 1/1 (22/313) C:\\Sinau\\UAS - Pembelajaran Mesin\\yolov9\\traffic.mp4: 384x640 25 cars, 4 buss, 484.8ms\n",
      "video 1/1 (23/313) C:\\Sinau\\UAS - Pembelajaran Mesin\\yolov9\\traffic.mp4: 384x640 21 cars, 5 buss, 431.1ms\n",
      "video 1/1 (24/313) C:\\Sinau\\UAS - Pembelajaran Mesin\\yolov9\\traffic.mp4: 384x640 1 person, 23 cars, 4 buss, 462.0ms\n",
      "video 1/1 (25/313) C:\\Sinau\\UAS - Pembelajaran Mesin\\yolov9\\traffic.mp4: 384x640 1 person, 23 cars, 4 buss, 442.5ms\n",
      "video 1/1 (26/313) C:\\Sinau\\UAS - Pembelajaran Mesin\\yolov9\\traffic.mp4: 384x640 2 persons, 23 cars, 6 buss, 1 truck, 445.0ms\n",
      "video 1/1 (27/313) C:\\Sinau\\UAS - Pembelajaran Mesin\\yolov9\\traffic.mp4: 384x640 2 persons, 23 cars, 6 buss, 446.9ms\n",
      "video 1/1 (28/313) C:\\Sinau\\UAS - Pembelajaran Mesin\\yolov9\\traffic.mp4: 384x640 2 persons, 24 cars, 6 buss, 443.6ms\n",
      "video 1/1 (29/313) C:\\Sinau\\UAS - Pembelajaran Mesin\\yolov9\\traffic.mp4: 384x640 2 persons, 22 cars, 6 buss, 465.8ms\n",
      "video 1/1 (30/313) C:\\Sinau\\UAS - Pembelajaran Mesin\\yolov9\\traffic.mp4: 384x640 2 persons, 22 cars, 5 buss, 435.4ms\n",
      "video 1/1 (31/313) C:\\Sinau\\UAS - Pembelajaran Mesin\\yolov9\\traffic.mp4: 384x640 2 persons, 21 cars, 5 buss, 1 truck, 450.9ms\n",
      "video 1/1 (32/313) C:\\Sinau\\UAS - Pembelajaran Mesin\\yolov9\\traffic.mp4: 384x640 3 persons, 21 cars, 6 buss, 1 truck, 500.1ms\n",
      "video 1/1 (33/313) C:\\Sinau\\UAS - Pembelajaran Mesin\\yolov9\\traffic.mp4: 384x640 2 persons, 21 cars, 5 buss, 1 truck, 443.3ms\n",
      "video 1/1 (34/313) C:\\Sinau\\UAS - Pembelajaran Mesin\\yolov9\\traffic.mp4: 384x640 2 persons, 21 cars, 6 buss, 1 truck, 437.7ms\n",
      "video 1/1 (35/313) C:\\Sinau\\UAS - Pembelajaran Mesin\\yolov9\\traffic.mp4: 384x640 2 persons, 22 cars, 6 buss, 1 truck, 430.7ms\n",
      "video 1/1 (36/313) C:\\Sinau\\UAS - Pembelajaran Mesin\\yolov9\\traffic.mp4: 384x640 2 persons, 22 cars, 4 buss, 1 truck, 430.7ms\n",
      "video 1/1 (37/313) C:\\Sinau\\UAS - Pembelajaran Mesin\\yolov9\\traffic.mp4: 384x640 2 persons, 22 cars, 4 buss, 1 truck, 451.7ms\n",
      "video 1/1 (38/313) C:\\Sinau\\UAS - Pembelajaran Mesin\\yolov9\\traffic.mp4: 384x640 3 persons, 22 cars, 5 buss, 1 truck, 453.5ms\n",
      "video 1/1 (39/313) C:\\Sinau\\UAS - Pembelajaran Mesin\\yolov9\\traffic.mp4: 384x640 2 persons, 23 cars, 5 buss, 1 truck, 438.7ms\n",
      "video 1/1 (40/313) C:\\Sinau\\UAS - Pembelajaran Mesin\\yolov9\\traffic.mp4: 384x640 1 person, 23 cars, 5 buss, 1 truck, 438.0ms\n",
      "video 1/1 (41/313) C:\\Sinau\\UAS - Pembelajaran Mesin\\yolov9\\traffic.mp4: 384x640 1 person, 26 cars, 5 buss, 1 truck, 437.9ms\n",
      "video 1/1 (42/313) C:\\Sinau\\UAS - Pembelajaran Mesin\\yolov9\\traffic.mp4: 384x640 2 persons, 26 cars, 5 buss, 1 truck, 442.7ms\n",
      "video 1/1 (43/313) C:\\Sinau\\UAS - Pembelajaran Mesin\\yolov9\\traffic.mp4: 384x640 2 persons, 25 cars, 5 buss, 1 truck, 475.1ms\n",
      "video 1/1 (44/313) C:\\Sinau\\UAS - Pembelajaran Mesin\\yolov9\\traffic.mp4: 384x640 2 persons, 24 cars, 5 buss, 1 truck, 456.9ms\n",
      "video 1/1 (45/313) C:\\Sinau\\UAS - Pembelajaran Mesin\\yolov9\\traffic.mp4: 384x640 3 persons, 24 cars, 5 buss, 1 truck, 435.0ms\n",
      "video 1/1 (46/313) C:\\Sinau\\UAS - Pembelajaran Mesin\\yolov9\\traffic.mp4: 384x640 3 persons, 25 cars, 5 buss, 1 truck, 457.6ms\n",
      "video 1/1 (47/313) C:\\Sinau\\UAS - Pembelajaran Mesin\\yolov9\\traffic.mp4: 384x640 2 persons, 24 cars, 5 buss, 1 truck, 435.4ms\n",
      "video 1/1 (48/313) C:\\Sinau\\UAS - Pembelajaran Mesin\\yolov9\\traffic.mp4: 384x640 3 persons, 24 cars, 5 buss, 1 truck, 428.0ms\n",
      "video 1/1 (49/313) C:\\Sinau\\UAS - Pembelajaran Mesin\\yolov9\\traffic.mp4: 384x640 3 persons, 24 cars, 5 buss, 1 truck, 428.1ms\n",
      "video 1/1 (50/313) C:\\Sinau\\UAS - Pembelajaran Mesin\\yolov9\\traffic.mp4: 384x640 3 persons, 24 cars, 5 buss, 1 truck, 440.4ms\n",
      "video 1/1 (51/313) C:\\Sinau\\UAS - Pembelajaran Mesin\\yolov9\\traffic.mp4: 384x640 3 persons, 25 cars, 5 buss, 1 truck, 420.3ms\n",
      "video 1/1 (52/313) C:\\Sinau\\UAS - Pembelajaran Mesin\\yolov9\\traffic.mp4: 384x640 2 persons, 25 cars, 5 buss, 1 truck, 435.8ms\n",
      "video 1/1 (53/313) C:\\Sinau\\UAS - Pembelajaran Mesin\\yolov9\\traffic.mp4: 384x640 1 person, 24 cars, 5 buss, 1 truck, 445.6ms\n",
      "video 1/1 (54/313) C:\\Sinau\\UAS - Pembelajaran Mesin\\yolov9\\traffic.mp4: 384x640 1 person, 25 cars, 5 buss, 1 truck, 439.0ms\n",
      "video 1/1 (55/313) C:\\Sinau\\UAS - Pembelajaran Mesin\\yolov9\\traffic.mp4: 384x640 2 persons, 23 cars, 5 buss, 1 truck, 435.7ms\n",
      "video 1/1 (56/313) C:\\Sinau\\UAS - Pembelajaran Mesin\\yolov9\\traffic.mp4: 384x640 2 persons, 23 cars, 5 buss, 1 truck, 440.6ms\n",
      "video 1/1 (57/313) C:\\Sinau\\UAS - Pembelajaran Mesin\\yolov9\\traffic.mp4: 384x640 2 persons, 24 cars, 5 buss, 1 truck, 432.7ms\n",
      "video 1/1 (58/313) C:\\Sinau\\UAS - Pembelajaran Mesin\\yolov9\\traffic.mp4: 384x640 1 person, 23 cars, 5 buss, 1 truck, 445.9ms\n",
      "video 1/1 (59/313) C:\\Sinau\\UAS - Pembelajaran Mesin\\yolov9\\traffic.mp4: 384x640 2 persons, 24 cars, 5 buss, 1 truck, 429.2ms\n",
      "video 1/1 (60/313) C:\\Sinau\\UAS - Pembelajaran Mesin\\yolov9\\traffic.mp4: 384x640 1 person, 24 cars, 5 buss, 1 truck, 437.5ms\n",
      "video 1/1 (61/313) C:\\Sinau\\UAS - Pembelajaran Mesin\\yolov9\\traffic.mp4: 384x640 2 persons, 24 cars, 5 buss, 1 truck, 449.5ms\n",
      "video 1/1 (62/313) C:\\Sinau\\UAS - Pembelajaran Mesin\\yolov9\\traffic.mp4: 384x640 1 person, 22 cars, 5 buss, 2 trucks, 454.0ms\n",
      "video 1/1 (63/313) C:\\Sinau\\UAS - Pembelajaran Mesin\\yolov9\\traffic.mp4: 384x640 1 person, 22 cars, 5 buss, 1 truck, 471.0ms\n",
      "video 1/1 (64/313) C:\\Sinau\\UAS - Pembelajaran Mesin\\yolov9\\traffic.mp4: 384x640 1 person, 23 cars, 5 buss, 1 truck, 510.4ms\n",
      "video 1/1 (65/313) C:\\Sinau\\UAS - Pembelajaran Mesin\\yolov9\\traffic.mp4: 384x640 22 cars, 5 buss, 1 truck, 547.8ms\n",
      "video 1/1 (66/313) C:\\Sinau\\UAS - Pembelajaran Mesin\\yolov9\\traffic.mp4: 384x640 23 cars, 5 buss, 1 truck, 468.4ms\n",
      "video 1/1 (67/313) C:\\Sinau\\UAS - Pembelajaran Mesin\\yolov9\\traffic.mp4: 384x640 2 persons, 23 cars, 5 buss, 1 truck, 453.4ms\n",
      "video 1/1 (68/313) C:\\Sinau\\UAS - Pembelajaran Mesin\\yolov9\\traffic.mp4: 384x640 1 person, 24 cars, 5 buss, 1 truck, 439.0ms\n",
      "video 1/1 (69/313) C:\\Sinau\\UAS - Pembelajaran Mesin\\yolov9\\traffic.mp4: 384x640 25 cars, 5 buss, 1 truck, 508.0ms\n",
      "video 1/1 (70/313) C:\\Sinau\\UAS - Pembelajaran Mesin\\yolov9\\traffic.mp4: 384x640 2 persons, 25 cars, 5 buss, 1 truck, 746.2ms\n",
      "video 1/1 (71/313) C:\\Sinau\\UAS - Pembelajaran Mesin\\yolov9\\traffic.mp4: 384x640 2 persons, 24 cars, 5 buss, 1 truck, 494.7ms\n",
      "video 1/1 (72/313) C:\\Sinau\\UAS - Pembelajaran Mesin\\yolov9\\traffic.mp4: 384x640 2 persons, 25 cars, 5 buss, 1 truck, 452.4ms\n",
      "video 1/1 (73/313) C:\\Sinau\\UAS - Pembelajaran Mesin\\yolov9\\traffic.mp4: 384x640 2 persons, 24 cars, 5 buss, 1 truck, 450.4ms\n",
      "video 1/1 (74/313) C:\\Sinau\\UAS - Pembelajaran Mesin\\yolov9\\traffic.mp4: 384x640 1 person, 25 cars, 5 buss, 1 truck, 453.9ms\n",
      "video 1/1 (75/313) C:\\Sinau\\UAS - Pembelajaran Mesin\\yolov9\\traffic.mp4: 384x640 2 persons, 25 cars, 5 buss, 1 truck, 439.5ms\n",
      "video 1/1 (76/313) C:\\Sinau\\UAS - Pembelajaran Mesin\\yolov9\\traffic.mp4: 384x640 2 persons, 25 cars, 5 buss, 1 truck, 506.7ms\n",
      "video 1/1 (77/313) C:\\Sinau\\UAS - Pembelajaran Mesin\\yolov9\\traffic.mp4: 384x640 3 persons, 25 cars, 4 buss, 1 truck, 457.6ms\n",
      "video 1/1 (78/313) C:\\Sinau\\UAS - Pembelajaran Mesin\\yolov9\\traffic.mp4: 384x640 2 persons, 25 cars, 5 buss, 1 truck, 473.0ms\n",
      "video 1/1 (79/313) C:\\Sinau\\UAS - Pembelajaran Mesin\\yolov9\\traffic.mp4: 384x640 1 person, 25 cars, 4 buss, 1 truck, 476.7ms\n",
      "video 1/1 (80/313) C:\\Sinau\\UAS - Pembelajaran Mesin\\yolov9\\traffic.mp4: 384x640 1 person, 25 cars, 4 buss, 1 truck, 448.7ms\n",
      "video 1/1 (81/313) C:\\Sinau\\UAS - Pembelajaran Mesin\\yolov9\\traffic.mp4: 384x640 2 persons, 26 cars, 4 buss, 1 truck, 440.3ms\n",
      "video 1/1 (82/313) C:\\Sinau\\UAS - Pembelajaran Mesin\\yolov9\\traffic.mp4: 384x640 2 persons, 26 cars, 5 buss, 1 truck, 454.5ms\n",
      "video 1/1 (83/313) C:\\Sinau\\UAS - Pembelajaran Mesin\\yolov9\\traffic.mp4: 384x640 2 persons, 27 cars, 4 buss, 1 truck, 440.8ms\n",
      "video 1/1 (84/313) C:\\Sinau\\UAS - Pembelajaran Mesin\\yolov9\\traffic.mp4: 384x640 2 persons, 29 cars, 5 buss, 1 truck, 449.5ms\n",
      "video 1/1 (85/313) C:\\Sinau\\UAS - Pembelajaran Mesin\\yolov9\\traffic.mp4: 384x640 2 persons, 27 cars, 5 buss, 1 truck, 437.1ms\n",
      "video 1/1 (86/313) C:\\Sinau\\UAS - Pembelajaran Mesin\\yolov9\\traffic.mp4: 384x640 1 person, 25 cars, 5 buss, 1 truck, 452.3ms\n",
      "video 1/1 (87/313) C:\\Sinau\\UAS - Pembelajaran Mesin\\yolov9\\traffic.mp4: 384x640 1 person, 25 cars, 5 buss, 1 truck, 452.8ms\n",
      "video 1/1 (88/313) C:\\Sinau\\UAS - Pembelajaran Mesin\\yolov9\\traffic.mp4: 384x640 1 person, 27 cars, 5 buss, 1 truck, 427.7ms\n",
      "video 1/1 (89/313) C:\\Sinau\\UAS - Pembelajaran Mesin\\yolov9\\traffic.mp4: 384x640 1 person, 26 cars, 5 buss, 1 truck, 423.5ms\n",
      "video 1/1 (90/313) C:\\Sinau\\UAS - Pembelajaran Mesin\\yolov9\\traffic.mp4: 384x640 1 person, 25 cars, 5 buss, 1 truck, 451.8ms\n",
      "video 1/1 (91/313) C:\\Sinau\\UAS - Pembelajaran Mesin\\yolov9\\traffic.mp4: 384x640 2 persons, 26 cars, 5 buss, 1 truck, 440.4ms\n",
      "video 1/1 (92/313) C:\\Sinau\\UAS - Pembelajaran Mesin\\yolov9\\traffic.mp4: 384x640 2 persons, 28 cars, 5 buss, 1 truck, 445.4ms\n",
      "video 1/1 (93/313) C:\\Sinau\\UAS - Pembelajaran Mesin\\yolov9\\traffic.mp4: 384x640 1 person, 28 cars, 5 buss, 1 truck, 432.3ms\n",
      "video 1/1 (94/313) C:\\Sinau\\UAS - Pembelajaran Mesin\\yolov9\\traffic.mp4: 384x640 1 person, 27 cars, 5 buss, 1 truck, 437.6ms\n",
      "video 1/1 (95/313) C:\\Sinau\\UAS - Pembelajaran Mesin\\yolov9\\traffic.mp4: 384x640 1 person, 26 cars, 5 buss, 448.5ms\n",
      "video 1/1 (96/313) C:\\Sinau\\UAS - Pembelajaran Mesin\\yolov9\\traffic.mp4: 384x640 1 person, 27 cars, 1 motorcycle, 5 buss, 439.0ms\n",
      "video 1/1 (97/313) C:\\Sinau\\UAS - Pembelajaran Mesin\\yolov9\\traffic.mp4: 384x640 1 person, 27 cars, 5 buss, 418.7ms\n",
      "video 1/1 (98/313) C:\\Sinau\\UAS - Pembelajaran Mesin\\yolov9\\traffic.mp4: 384x640 1 person, 29 cars, 5 buss, 1 truck, 427.1ms\n",
      "video 1/1 (99/313) C:\\Sinau\\UAS - Pembelajaran Mesin\\yolov9\\traffic.mp4: 384x640 1 person, 25 cars, 5 buss, 1 truck, 508.0ms\n",
      "video 1/1 (100/313) C:\\Sinau\\UAS - Pembelajaran Mesin\\yolov9\\traffic.mp4: 384x640 2 persons, 25 cars, 5 buss, 1 truck, 447.1ms\n",
      "video 1/1 (101/313) C:\\Sinau\\UAS - Pembelajaran Mesin\\yolov9\\traffic.mp4: 384x640 2 persons, 25 cars, 5 buss, 443.2ms\n",
      "video 1/1 (102/313) C:\\Sinau\\UAS - Pembelajaran Mesin\\yolov9\\traffic.mp4: 384x640 2 persons, 26 cars, 5 buss, 1 truck, 442.4ms\n",
      "video 1/1 (103/313) C:\\Sinau\\UAS - Pembelajaran Mesin\\yolov9\\traffic.mp4: 384x640 2 persons, 27 cars, 5 buss, 3 trucks, 441.4ms\n",
      "video 1/1 (104/313) C:\\Sinau\\UAS - Pembelajaran Mesin\\yolov9\\traffic.mp4: 384x640 2 persons, 25 cars, 4 buss, 3 trucks, 454.6ms\n",
      "video 1/1 (105/313) C:\\Sinau\\UAS - Pembelajaran Mesin\\yolov9\\traffic.mp4: 384x640 2 persons, 24 cars, 4 buss, 3 trucks, 427.0ms\n",
      "video 1/1 (106/313) C:\\Sinau\\UAS - Pembelajaran Mesin\\yolov9\\traffic.mp4: 384x640 2 persons, 24 cars, 4 buss, 430.5ms\n",
      "video 1/1 (107/313) C:\\Sinau\\UAS - Pembelajaran Mesin\\yolov9\\traffic.mp4: 384x640 3 persons, 25 cars, 5 buss, 1 truck, 444.4ms\n",
      "video 1/1 (108/313) C:\\Sinau\\UAS - Pembelajaran Mesin\\yolov9\\traffic.mp4: 384x640 2 persons, 27 cars, 4 buss, 1 truck, 454.2ms\n",
      "video 1/1 (109/313) C:\\Sinau\\UAS - Pembelajaran Mesin\\yolov9\\traffic.mp4: 384x640 2 persons, 27 cars, 4 buss, 1 truck, 435.4ms\n",
      "video 1/1 (110/313) C:\\Sinau\\UAS - Pembelajaran Mesin\\yolov9\\traffic.mp4: 384x640 2 persons, 25 cars, 4 buss, 1 truck, 456.9ms\n",
      "video 1/1 (111/313) C:\\Sinau\\UAS - Pembelajaran Mesin\\yolov9\\traffic.mp4: 384x640 2 persons, 26 cars, 1 motorcycle, 4 buss, 1 truck, 436.8ms\n",
      "video 1/1 (112/313) C:\\Sinau\\UAS - Pembelajaran Mesin\\yolov9\\traffic.mp4: 384x640 2 persons, 26 cars, 4 buss, 1 truck, 443.8ms\n",
      "video 1/1 (113/313) C:\\Sinau\\UAS - Pembelajaran Mesin\\yolov9\\traffic.mp4: 384x640 2 persons, 26 cars, 4 buss, 2 trucks, 471.2ms\n",
      "video 1/1 (114/313) C:\\Sinau\\UAS - Pembelajaran Mesin\\yolov9\\traffic.mp4: 384x640 3 persons, 27 cars, 5 buss, 1 truck, 559.6ms\n",
      "video 1/1 (115/313) C:\\Sinau\\UAS - Pembelajaran Mesin\\yolov9\\traffic.mp4: 384x640 2 persons, 22 cars, 5 buss, 1 truck, 496.5ms\n",
      "video 1/1 (116/313) C:\\Sinau\\UAS - Pembelajaran Mesin\\yolov9\\traffic.mp4: 384x640 2 persons, 25 cars, 5 buss, 1 truck, 566.3ms\n",
      "video 1/1 (117/313) C:\\Sinau\\UAS - Pembelajaran Mesin\\yolov9\\traffic.mp4: 384x640 2 persons, 23 cars, 5 buss, 2 trucks, 497.7ms\n",
      "video 1/1 (118/313) C:\\Sinau\\UAS - Pembelajaran Mesin\\yolov9\\traffic.mp4: 384x640 2 persons, 24 cars, 4 buss, 1 truck, 522.4ms\n",
      "video 1/1 (119/313) C:\\Sinau\\UAS - Pembelajaran Mesin\\yolov9\\traffic.mp4: 384x640 2 persons, 24 cars, 4 buss, 2 trucks, 674.6ms\n",
      "video 1/1 (120/313) C:\\Sinau\\UAS - Pembelajaran Mesin\\yolov9\\traffic.mp4: 384x640 2 persons, 23 cars, 4 buss, 3 trucks, 541.5ms\n",
      "video 1/1 (121/313) C:\\Sinau\\UAS - Pembelajaran Mesin\\yolov9\\traffic.mp4: 384x640 3 persons, 25 cars, 4 buss, 2 trucks, 621.1ms\n",
      "video 1/1 (122/313) C:\\Sinau\\UAS - Pembelajaran Mesin\\yolov9\\traffic.mp4: 384x640 3 persons, 23 cars, 4 buss, 2 trucks, 510.2ms\n",
      "video 1/1 (123/313) C:\\Sinau\\UAS - Pembelajaran Mesin\\yolov9\\traffic.mp4: 384x640 3 persons, 23 cars, 5 buss, 3 trucks, 564.0ms\n",
      "video 1/1 (124/313) C:\\Sinau\\UAS - Pembelajaran Mesin\\yolov9\\traffic.mp4: 384x640 3 persons, 24 cars, 1 motorcycle, 5 buss, 2 trucks, 660.8ms\n",
      "video 1/1 (125/313) C:\\Sinau\\UAS - Pembelajaran Mesin\\yolov9\\traffic.mp4: 384x640 3 persons, 22 cars, 1 motorcycle, 5 buss, 2 trucks, 1041.6ms\n",
      "video 1/1 (126/313) C:\\Sinau\\UAS - Pembelajaran Mesin\\yolov9\\traffic.mp4: 384x640 2 persons, 23 cars, 1 motorcycle, 5 buss, 2 trucks, 894.6ms\n",
      "video 1/1 (127/313) C:\\Sinau\\UAS - Pembelajaran Mesin\\yolov9\\traffic.mp4: 384x640 3 persons, 23 cars, 1 motorcycle, 5 buss, 2 trucks, 588.2ms\n",
      "video 1/1 (128/313) C:\\Sinau\\UAS - Pembelajaran Mesin\\yolov9\\traffic.mp4: 384x640 3 persons, 23 cars, 1 motorcycle, 5 buss, 2 trucks, 486.1ms\n",
      "video 1/1 (129/313) C:\\Sinau\\UAS - Pembelajaran Mesin\\yolov9\\traffic.mp4: 384x640 2 persons, 24 cars, 1 motorcycle, 5 buss, 2 trucks, 783.2ms\n",
      "video 1/1 (130/313) C:\\Sinau\\UAS - Pembelajaran Mesin\\yolov9\\traffic.mp4: 384x640 3 persons, 24 cars, 1 motorcycle, 4 buss, 2 trucks, 729.7ms\n",
      "video 1/1 (131/313) C:\\Sinau\\UAS - Pembelajaran Mesin\\yolov9\\traffic.mp4: 384x640 3 persons, 22 cars, 1 motorcycle, 5 buss, 2 trucks, 449.3ms\n",
      "video 1/1 (132/313) C:\\Sinau\\UAS - Pembelajaran Mesin\\yolov9\\traffic.mp4: 384x640 4 persons, 23 cars, 1 motorcycle, 5 buss, 2 trucks, 539.3ms\n",
      "video 1/1 (133/313) C:\\Sinau\\UAS - Pembelajaran Mesin\\yolov9\\traffic.mp4: 384x640 4 persons, 23 cars, 1 motorcycle, 5 buss, 2 trucks, 726.0ms\n",
      "video 1/1 (134/313) C:\\Sinau\\UAS - Pembelajaran Mesin\\yolov9\\traffic.mp4: 384x640 4 persons, 22 cars, 1 motorcycle, 5 buss, 2 trucks, 822.7ms\n",
      "video 1/1 (135/313) C:\\Sinau\\UAS - Pembelajaran Mesin\\yolov9\\traffic.mp4: 384x640 3 persons, 22 cars, 5 buss, 2 trucks, 569.0ms\n",
      "video 1/1 (136/313) C:\\Sinau\\UAS - Pembelajaran Mesin\\yolov9\\traffic.mp4: 384x640 2 persons, 23 cars, 1 motorcycle, 5 buss, 2 trucks, 544.5ms\n",
      "video 1/1 (137/313) C:\\Sinau\\UAS - Pembelajaran Mesin\\yolov9\\traffic.mp4: 384x640 2 persons, 23 cars, 1 motorcycle, 5 buss, 2 trucks, 468.2ms\n",
      "video 1/1 (138/313) C:\\Sinau\\UAS - Pembelajaran Mesin\\yolov9\\traffic.mp4: 384x640 3 persons, 21 cars, 2 motorcycles, 5 buss, 2 trucks, 566.0ms\n",
      "video 1/1 (139/313) C:\\Sinau\\UAS - Pembelajaran Mesin\\yolov9\\traffic.mp4: 384x640 3 persons, 20 cars, 2 motorcycles, 5 buss, 1 truck, 450.2ms\n",
      "video 1/1 (140/313) C:\\Sinau\\UAS - Pembelajaran Mesin\\yolov9\\traffic.mp4: 384x640 2 persons, 20 cars, 2 motorcycles, 5 buss, 1 truck, 451.1ms\n",
      "video 1/1 (141/313) C:\\Sinau\\UAS - Pembelajaran Mesin\\yolov9\\traffic.mp4: 384x640 3 persons, 20 cars, 2 motorcycles, 5 buss, 2 trucks, 444.2ms\n",
      "video 1/1 (142/313) C:\\Sinau\\UAS - Pembelajaran Mesin\\yolov9\\traffic.mp4: 384x640 3 persons, 20 cars, 2 motorcycles, 5 buss, 1 truck, 583.5ms\n",
      "video 1/1 (143/313) C:\\Sinau\\UAS - Pembelajaran Mesin\\yolov9\\traffic.mp4: 384x640 3 persons, 21 cars, 2 motorcycles, 5 buss, 534.8ms\n",
      "video 1/1 (144/313) C:\\Sinau\\UAS - Pembelajaran Mesin\\yolov9\\traffic.mp4: 384x640 3 persons, 23 cars, 1 motorcycle, 5 buss, 622.1ms\n",
      "video 1/1 (145/313) C:\\Sinau\\UAS - Pembelajaran Mesin\\yolov9\\traffic.mp4: 384x640 4 persons, 23 cars, 2 motorcycles, 5 buss, 522.9ms\n",
      "video 1/1 (146/313) C:\\Sinau\\UAS - Pembelajaran Mesin\\yolov9\\traffic.mp4: 384x640 4 persons, 23 cars, 2 motorcycles, 5 buss, 1 truck, 523.1ms\n",
      "video 1/1 (147/313) C:\\Sinau\\UAS - Pembelajaran Mesin\\yolov9\\traffic.mp4: 384x640 4 persons, 23 cars, 2 motorcycles, 5 buss, 1 truck, 585.8ms\n",
      "video 1/1 (148/313) C:\\Sinau\\UAS - Pembelajaran Mesin\\yolov9\\traffic.mp4: 384x640 4 persons, 23 cars, 2 motorcycles, 5 buss, 2 trucks, 494.3ms\n",
      "video 1/1 (149/313) C:\\Sinau\\UAS - Pembelajaran Mesin\\yolov9\\traffic.mp4: 384x640 3 persons, 24 cars, 2 motorcycles, 5 buss, 536.6ms\n",
      "video 1/1 (150/313) C:\\Sinau\\UAS - Pembelajaran Mesin\\yolov9\\traffic.mp4: 384x640 3 persons, 24 cars, 2 motorcycles, 4 buss, 1 truck, 800.5ms\n",
      "video 1/1 (151/313) C:\\Sinau\\UAS - Pembelajaran Mesin\\yolov9\\traffic.mp4: 384x640 3 persons, 24 cars, 1 motorcycle, 5 buss, 2 trucks, 518.5ms\n",
      "video 1/1 (152/313) C:\\Sinau\\UAS - Pembelajaran Mesin\\yolov9\\traffic.mp4: 384x640 3 persons, 24 cars, 2 motorcycles, 5 buss, 2 trucks, 558.8ms\n",
      "video 1/1 (153/313) C:\\Sinau\\UAS - Pembelajaran Mesin\\yolov9\\traffic.mp4: 384x640 3 persons, 22 cars, 2 motorcycles, 3 buss, 2 trucks, 485.2ms\n",
      "video 1/1 (154/313) C:\\Sinau\\UAS - Pembelajaran Mesin\\yolov9\\traffic.mp4: 384x640 3 persons, 22 cars, 1 motorcycle, 4 buss, 2 trucks, 591.7ms\n",
      "video 1/1 (155/313) C:\\Sinau\\UAS - Pembelajaran Mesin\\yolov9\\traffic.mp4: 384x640 3 persons, 23 cars, 1 motorcycle, 4 buss, 2 trucks, 437.0ms\n",
      "video 1/1 (156/313) C:\\Sinau\\UAS - Pembelajaran Mesin\\yolov9\\traffic.mp4: 384x640 3 persons, 21 cars, 1 motorcycle, 3 buss, 2 trucks, 637.3ms\n",
      "video 1/1 (157/313) C:\\Sinau\\UAS - Pembelajaran Mesin\\yolov9\\traffic.mp4: 384x640 3 persons, 22 cars, 1 motorcycle, 3 buss, 2 trucks, 533.5ms\n",
      "video 1/1 (158/313) C:\\Sinau\\UAS - Pembelajaran Mesin\\yolov9\\traffic.mp4: 384x640 3 persons, 20 cars, 2 motorcycles, 3 buss, 2 trucks, 833.1ms\n",
      "video 1/1 (159/313) C:\\Sinau\\UAS - Pembelajaran Mesin\\yolov9\\traffic.mp4: 384x640 3 persons, 20 cars, 3 motorcycles, 3 buss, 2 trucks, 651.4ms\n",
      "video 1/1 (160/313) C:\\Sinau\\UAS - Pembelajaran Mesin\\yolov9\\traffic.mp4: 384x640 2 persons, 20 cars, 2 motorcycles, 3 buss, 2 trucks, 712.8ms\n",
      "video 1/1 (161/313) C:\\Sinau\\UAS - Pembelajaran Mesin\\yolov9\\traffic.mp4: 384x640 3 persons, 19 cars, 2 motorcycles, 5 buss, 2 trucks, 799.4ms\n",
      "video 1/1 (162/313) C:\\Sinau\\UAS - Pembelajaran Mesin\\yolov9\\traffic.mp4: 384x640 3 persons, 21 cars, 2 motorcycles, 3 buss, 2 trucks, 545.5ms\n",
      "video 1/1 (163/313) C:\\Sinau\\UAS - Pembelajaran Mesin\\yolov9\\traffic.mp4: 384x640 3 persons, 21 cars, 2 motorcycles, 3 buss, 2 trucks, 566.3ms\n",
      "video 1/1 (164/313) C:\\Sinau\\UAS - Pembelajaran Mesin\\yolov9\\traffic.mp4: 384x640 3 persons, 21 cars, 2 motorcycles, 3 buss, 2 trucks, 621.6ms\n",
      "video 1/1 (165/313) C:\\Sinau\\UAS - Pembelajaran Mesin\\yolov9\\traffic.mp4: 384x640 3 persons, 21 cars, 3 motorcycles, 3 buss, 3 trucks, 884.4ms\n",
      "video 1/1 (166/313) C:\\Sinau\\UAS - Pembelajaran Mesin\\yolov9\\traffic.mp4: 384x640 3 persons, 21 cars, 3 motorcycles, 3 buss, 3 trucks, 1213.6ms\n",
      "video 1/1 (167/313) C:\\Sinau\\UAS - Pembelajaran Mesin\\yolov9\\traffic.mp4: 384x640 3 persons, 24 cars, 3 motorcycles, 3 buss, 2 trucks, 865.3ms\n",
      "video 1/1 (168/313) C:\\Sinau\\UAS - Pembelajaran Mesin\\yolov9\\traffic.mp4: 384x640 3 persons, 22 cars, 2 motorcycles, 3 buss, 3 trucks, 859.2ms\n",
      "video 1/1 (169/313) C:\\Sinau\\UAS - Pembelajaran Mesin\\yolov9\\traffic.mp4: 384x640 3 persons, 20 cars, 2 motorcycles, 3 buss, 3 trucks, 776.9ms\n",
      "video 1/1 (170/313) C:\\Sinau\\UAS - Pembelajaran Mesin\\yolov9\\traffic.mp4: 384x640 4 persons, 24 cars, 2 motorcycles, 3 buss, 3 trucks, 524.7ms\n",
      "video 1/1 (171/313) C:\\Sinau\\UAS - Pembelajaran Mesin\\yolov9\\traffic.mp4: 384x640 3 persons, 24 cars, 2 motorcycles, 3 buss, 2 trucks, 543.1ms\n",
      "video 1/1 (172/313) C:\\Sinau\\UAS - Pembelajaran Mesin\\yolov9\\traffic.mp4: 384x640 3 persons, 25 cars, 2 motorcycles, 3 buss, 3 trucks, 531.4ms\n",
      "video 1/1 (173/313) C:\\Sinau\\UAS - Pembelajaran Mesin\\yolov9\\traffic.mp4: 384x640 3 persons, 22 cars, 2 motorcycles, 3 buss, 3 trucks, 518.1ms\n",
      "video 1/1 (174/313) C:\\Sinau\\UAS - Pembelajaran Mesin\\yolov9\\traffic.mp4: 384x640 4 persons, 25 cars, 1 motorcycle, 4 buss, 2 trucks, 490.0ms\n",
      "video 1/1 (175/313) C:\\Sinau\\UAS - Pembelajaran Mesin\\yolov9\\traffic.mp4: 384x640 5 persons, 24 cars, 1 motorcycle, 5 buss, 2 trucks, 558.8ms\n",
      "video 1/1 (176/313) C:\\Sinau\\UAS - Pembelajaran Mesin\\yolov9\\traffic.mp4: 384x640 5 persons, 23 cars, 2 motorcycles, 4 buss, 3 trucks, 552.4ms\n",
      "video 1/1 (177/313) C:\\Sinau\\UAS - Pembelajaran Mesin\\yolov9\\traffic.mp4: 384x640 4 persons, 23 cars, 3 motorcycles, 4 buss, 2 trucks, 575.2ms\n",
      "video 1/1 (178/313) C:\\Sinau\\UAS - Pembelajaran Mesin\\yolov9\\traffic.mp4: 384x640 6 persons, 23 cars, 3 motorcycles, 4 buss, 2 trucks, 488.8ms\n",
      "video 1/1 (179/313) C:\\Sinau\\UAS - Pembelajaran Mesin\\yolov9\\traffic.mp4: 384x640 6 persons, 22 cars, 2 motorcycles, 4 buss, 1 truck, 678.3ms\n",
      "video 1/1 (180/313) C:\\Sinau\\UAS - Pembelajaran Mesin\\yolov9\\traffic.mp4: 384x640 6 persons, 22 cars, 2 motorcycles, 4 buss, 1 truck, 478.0ms\n",
      "video 1/1 (181/313) C:\\Sinau\\UAS - Pembelajaran Mesin\\yolov9\\traffic.mp4: 384x640 5 persons, 21 cars, 3 motorcycles, 4 buss, 2 trucks, 511.2ms\n",
      "video 1/1 (182/313) C:\\Sinau\\UAS - Pembelajaran Mesin\\yolov9\\traffic.mp4: 384x640 5 persons, 22 cars, 2 motorcycles, 3 buss, 3 trucks, 593.5ms\n",
      "video 1/1 (183/313) C:\\Sinau\\UAS - Pembelajaran Mesin\\yolov9\\traffic.mp4: 384x640 5 persons, 22 cars, 2 motorcycles, 3 buss, 3 trucks, 474.1ms\n",
      "video 1/1 (184/313) C:\\Sinau\\UAS - Pembelajaran Mesin\\yolov9\\traffic.mp4: 384x640 5 persons, 23 cars, 2 motorcycles, 5 buss, 1 truck, 545.1ms\n",
      "video 1/1 (185/313) C:\\Sinau\\UAS - Pembelajaran Mesin\\yolov9\\traffic.mp4: 384x640 5 persons, 23 cars, 2 motorcycles, 4 buss, 1 truck, 640.1ms\n",
      "video 1/1 (186/313) C:\\Sinau\\UAS - Pembelajaran Mesin\\yolov9\\traffic.mp4: 384x640 4 persons, 24 cars, 2 motorcycles, 5 buss, 1 truck, 472.4ms\n",
      "video 1/1 (187/313) C:\\Sinau\\UAS - Pembelajaran Mesin\\yolov9\\traffic.mp4: 384x640 5 persons, 23 cars, 2 motorcycles, 5 buss, 1 truck, 501.6ms\n",
      "video 1/1 (188/313) C:\\Sinau\\UAS - Pembelajaran Mesin\\yolov9\\traffic.mp4: 384x640 5 persons, 23 cars, 3 motorcycles, 5 buss, 1 truck, 491.8ms\n",
      "video 1/1 (189/313) C:\\Sinau\\UAS - Pembelajaran Mesin\\yolov9\\traffic.mp4: 384x640 5 persons, 23 cars, 2 motorcycles, 5 buss, 1 truck, 559.4ms\n",
      "video 1/1 (190/313) C:\\Sinau\\UAS - Pembelajaran Mesin\\yolov9\\traffic.mp4: 384x640 5 persons, 23 cars, 2 motorcycles, 5 buss, 1 truck, 438.5ms\n",
      "video 1/1 (191/313) C:\\Sinau\\UAS - Pembelajaran Mesin\\yolov9\\traffic.mp4: 384x640 5 persons, 23 cars, 2 motorcycles, 5 buss, 2 trucks, 443.1ms\n",
      "video 1/1 (192/313) C:\\Sinau\\UAS - Pembelajaran Mesin\\yolov9\\traffic.mp4: 384x640 5 persons, 23 cars, 2 motorcycles, 5 buss, 2 trucks, 422.6ms\n",
      "video 1/1 (193/313) C:\\Sinau\\UAS - Pembelajaran Mesin\\yolov9\\traffic.mp4: 384x640 5 persons, 24 cars, 1 motorcycle, 5 buss, 1 truck, 427.4ms\n",
      "video 1/1 (194/313) C:\\Sinau\\UAS - Pembelajaran Mesin\\yolov9\\traffic.mp4: 384x640 5 persons, 24 cars, 2 motorcycles, 5 buss, 1 truck, 441.0ms\n",
      "video 1/1 (195/313) C:\\Sinau\\UAS - Pembelajaran Mesin\\yolov9\\traffic.mp4: 384x640 6 persons, 24 cars, 2 motorcycles, 5 buss, 1 truck, 423.9ms\n",
      "video 1/1 (196/313) C:\\Sinau\\UAS - Pembelajaran Mesin\\yolov9\\traffic.mp4: 384x640 5 persons, 24 cars, 1 motorcycle, 4 buss, 1 truck, 443.3ms\n",
      "video 1/1 (197/313) C:\\Sinau\\UAS - Pembelajaran Mesin\\yolov9\\traffic.mp4: 384x640 6 persons, 24 cars, 1 motorcycle, 4 buss, 1 truck, 437.8ms\n",
      "video 1/1 (198/313) C:\\Sinau\\UAS - Pembelajaran Mesin\\yolov9\\traffic.mp4: 384x640 7 persons, 23 cars, 1 motorcycle, 4 buss, 1 truck, 450.3ms\n",
      "video 1/1 (199/313) C:\\Sinau\\UAS - Pembelajaran Mesin\\yolov9\\traffic.mp4: 384x640 6 persons, 24 cars, 1 motorcycle, 4 buss, 1 truck, 433.3ms\n",
      "video 1/1 (200/313) C:\\Sinau\\UAS - Pembelajaran Mesin\\yolov9\\traffic.mp4: 384x640 5 persons, 23 cars, 1 motorcycle, 4 buss, 1 truck, 832.0ms\n",
      "video 1/1 (201/313) C:\\Sinau\\UAS - Pembelajaran Mesin\\yolov9\\traffic.mp4: 384x640 5 persons, 25 cars, 1 motorcycle, 4 buss, 1 truck, 738.7ms\n",
      "video 1/1 (202/313) C:\\Sinau\\UAS - Pembelajaran Mesin\\yolov9\\traffic.mp4: 384x640 5 persons, 26 cars, 1 motorcycle, 4 buss, 1 truck, 461.2ms\n",
      "video 1/1 (203/313) C:\\Sinau\\UAS - Pembelajaran Mesin\\yolov9\\traffic.mp4: 384x640 5 persons, 24 cars, 1 motorcycle, 4 buss, 1 truck, 529.5ms\n",
      "video 1/1 (204/313) C:\\Sinau\\UAS - Pembelajaran Mesin\\yolov9\\traffic.mp4: 384x640 4 persons, 25 cars, 1 motorcycle, 4 buss, 1 truck, 553.1ms\n",
      "video 1/1 (205/313) C:\\Sinau\\UAS - Pembelajaran Mesin\\yolov9\\traffic.mp4: 384x640 6 persons, 25 cars, 1 motorcycle, 4 buss, 1 truck, 472.6ms\n",
      "video 1/1 (206/313) C:\\Sinau\\UAS - Pembelajaran Mesin\\yolov9\\traffic.mp4: 384x640 5 persons, 24 cars, 1 motorcycle, 4 buss, 1 truck, 562.4ms\n",
      "video 1/1 (207/313) C:\\Sinau\\UAS - Pembelajaran Mesin\\yolov9\\traffic.mp4: 384x640 5 persons, 25 cars, 1 motorcycle, 4 buss, 1 truck, 525.6ms\n",
      "video 1/1 (208/313) C:\\Sinau\\UAS - Pembelajaran Mesin\\yolov9\\traffic.mp4: 384x640 5 persons, 25 cars, 1 motorcycle, 4 buss, 1 truck, 538.5ms\n",
      "video 1/1 (209/313) C:\\Sinau\\UAS - Pembelajaran Mesin\\yolov9\\traffic.mp4: 384x640 5 persons, 24 cars, 1 motorcycle, 4 buss, 1 truck, 497.0ms\n",
      "video 1/1 (210/313) C:\\Sinau\\UAS - Pembelajaran Mesin\\yolov9\\traffic.mp4: 384x640 5 persons, 25 cars, 1 motorcycle, 4 buss, 1 truck, 623.6ms\n",
      "video 1/1 (211/313) C:\\Sinau\\UAS - Pembelajaran Mesin\\yolov9\\traffic.mp4: 384x640 5 persons, 24 cars, 1 motorcycle, 4 buss, 1 truck, 458.3ms\n",
      "video 1/1 (212/313) C:\\Sinau\\UAS - Pembelajaran Mesin\\yolov9\\traffic.mp4: 384x640 4 persons, 24 cars, 1 motorcycle, 5 buss, 1 truck, 469.6ms\n",
      "video 1/1 (213/313) C:\\Sinau\\UAS - Pembelajaran Mesin\\yolov9\\traffic.mp4: 384x640 5 persons, 24 cars, 1 motorcycle, 5 buss, 1 truck, 485.7ms\n",
      "video 1/1 (214/313) C:\\Sinau\\UAS - Pembelajaran Mesin\\yolov9\\traffic.mp4: 384x640 6 persons, 24 cars, 1 motorcycle, 5 buss, 1 truck, 770.1ms\n",
      "video 1/1 (215/313) C:\\Sinau\\UAS - Pembelajaran Mesin\\yolov9\\traffic.mp4: 384x640 6 persons, 24 cars, 1 motorcycle, 5 buss, 1 truck, 808.4ms\n",
      "video 1/1 (216/313) C:\\Sinau\\UAS - Pembelajaran Mesin\\yolov9\\traffic.mp4: 384x640 7 persons, 23 cars, 1 motorcycle, 5 buss, 1 truck, 814.4ms\n",
      "video 1/1 (217/313) C:\\Sinau\\UAS - Pembelajaran Mesin\\yolov9\\traffic.mp4: 384x640 6 persons, 24 cars, 1 motorcycle, 5 buss, 623.9ms\n",
      "video 1/1 (218/313) C:\\Sinau\\UAS - Pembelajaran Mesin\\yolov9\\traffic.mp4: 384x640 5 persons, 24 cars, 1 motorcycle, 5 buss, 465.7ms\n",
      "video 1/1 (219/313) C:\\Sinau\\UAS - Pembelajaran Mesin\\yolov9\\traffic.mp4: 384x640 6 persons, 25 cars, 1 motorcycle, 5 buss, 578.4ms\n",
      "video 1/1 (220/313) C:\\Sinau\\UAS - Pembelajaran Mesin\\yolov9\\traffic.mp4: 384x640 6 persons, 24 cars, 1 motorcycle, 5 buss, 1 truck, 460.2ms\n",
      "video 1/1 (221/313) C:\\Sinau\\UAS - Pembelajaran Mesin\\yolov9\\traffic.mp4: 384x640 6 persons, 24 cars, 1 motorcycle, 4 buss, 1 truck, 678.5ms\n",
      "video 1/1 (222/313) C:\\Sinau\\UAS - Pembelajaran Mesin\\yolov9\\traffic.mp4: 384x640 6 persons, 24 cars, 1 motorcycle, 4 buss, 1 truck, 458.4ms\n",
      "video 1/1 (223/313) C:\\Sinau\\UAS - Pembelajaran Mesin\\yolov9\\traffic.mp4: 384x640 6 persons, 24 cars, 1 motorcycle, 5 buss, 1 truck, 524.4ms\n",
      "video 1/1 (224/313) C:\\Sinau\\UAS - Pembelajaran Mesin\\yolov9\\traffic.mp4: 384x640 7 persons, 24 cars, 1 motorcycle, 5 buss, 1 truck, 444.0ms\n",
      "video 1/1 (225/313) C:\\Sinau\\UAS - Pembelajaran Mesin\\yolov9\\traffic.mp4: 384x640 7 persons, 25 cars, 1 motorcycle, 5 buss, 1 truck, 453.4ms\n",
      "video 1/1 (226/313) C:\\Sinau\\UAS - Pembelajaran Mesin\\yolov9\\traffic.mp4: 384x640 6 persons, 23 cars, 1 motorcycle, 4 buss, 1 truck, 452.7ms\n",
      "video 1/1 (227/313) C:\\Sinau\\UAS - Pembelajaran Mesin\\yolov9\\traffic.mp4: 384x640 5 persons, 23 cars, 1 motorcycle, 4 buss, 1 truck, 537.7ms\n",
      "video 1/1 (228/313) C:\\Sinau\\UAS - Pembelajaran Mesin\\yolov9\\traffic.mp4: 384x640 5 persons, 23 cars, 1 motorcycle, 4 buss, 1 truck, 459.5ms\n",
      "video 1/1 (229/313) C:\\Sinau\\UAS - Pembelajaran Mesin\\yolov9\\traffic.mp4: 384x640 5 persons, 24 cars, 1 motorcycle, 3 buss, 1 truck, 623.1ms\n",
      "video 1/1 (230/313) C:\\Sinau\\UAS - Pembelajaran Mesin\\yolov9\\traffic.mp4: 384x640 5 persons, 23 cars, 1 motorcycle, 4 buss, 1 truck, 444.1ms\n",
      "video 1/1 (231/313) C:\\Sinau\\UAS - Pembelajaran Mesin\\yolov9\\traffic.mp4: 384x640 5 persons, 24 cars, 1 motorcycle, 4 buss, 1 truck, 517.2ms\n",
      "video 1/1 (232/313) C:\\Sinau\\UAS - Pembelajaran Mesin\\yolov9\\traffic.mp4: 384x640 5 persons, 23 cars, 1 motorcycle, 4 buss, 1 truck, 626.3ms\n",
      "video 1/1 (233/313) C:\\Sinau\\UAS - Pembelajaran Mesin\\yolov9\\traffic.mp4: 384x640 5 persons, 24 cars, 1 motorcycle, 4 buss, 1 truck, 549.8ms\n",
      "video 1/1 (234/313) C:\\Sinau\\UAS - Pembelajaran Mesin\\yolov9\\traffic.mp4: 384x640 5 persons, 24 cars, 1 motorcycle, 4 buss, 1 truck, 565.9ms\n",
      "video 1/1 (235/313) C:\\Sinau\\UAS - Pembelajaran Mesin\\yolov9\\traffic.mp4: 384x640 5 persons, 24 cars, 1 motorcycle, 4 buss, 1 truck, 517.9ms\n",
      "video 1/1 (236/313) C:\\Sinau\\UAS - Pembelajaran Mesin\\yolov9\\traffic.mp4: 384x640 5 persons, 24 cars, 1 motorcycle, 4 buss, 1 truck, 533.3ms\n",
      "video 1/1 (237/313) C:\\Sinau\\UAS - Pembelajaran Mesin\\yolov9\\traffic.mp4: 384x640 6 persons, 23 cars, 1 motorcycle, 4 buss, 1 truck, 550.9ms\n",
      "video 1/1 (238/313) C:\\Sinau\\UAS - Pembelajaran Mesin\\yolov9\\traffic.mp4: 384x640 5 persons, 24 cars, 1 motorcycle, 4 buss, 525.8ms\n",
      "video 1/1 (239/313) C:\\Sinau\\UAS - Pembelajaran Mesin\\yolov9\\traffic.mp4: 384x640 6 persons, 24 cars, 1 motorcycle, 4 buss, 1 truck, 552.3ms\n",
      "video 1/1 (240/313) C:\\Sinau\\UAS - Pembelajaran Mesin\\yolov9\\traffic.mp4: 384x640 6 persons, 22 cars, 1 motorcycle, 4 buss, 570.4ms\n",
      "video 1/1 (241/313) C:\\Sinau\\UAS - Pembelajaran Mesin\\yolov9\\traffic.mp4: 384x640 6 persons, 25 cars, 1 motorcycle, 4 buss, 587.9ms\n",
      "video 1/1 (242/313) C:\\Sinau\\UAS - Pembelajaran Mesin\\yolov9\\traffic.mp4: 384x640 6 persons, 24 cars, 1 motorcycle, 4 buss, 566.1ms\n",
      "video 1/1 (243/313) C:\\Sinau\\UAS - Pembelajaran Mesin\\yolov9\\traffic.mp4: 384x640 6 persons, 24 cars, 1 motorcycle, 4 buss, 1 truck, 472.1ms\n",
      "video 1/1 (244/313) C:\\Sinau\\UAS - Pembelajaran Mesin\\yolov9\\traffic.mp4: 384x640 6 persons, 26 cars, 1 motorcycle, 4 buss, 1 truck, 484.9ms\n",
      "video 1/1 (245/313) C:\\Sinau\\UAS - Pembelajaran Mesin\\yolov9\\traffic.mp4: 384x640 5 persons, 25 cars, 1 motorcycle, 4 buss, 694.5ms\n",
      "video 1/1 (246/313) C:\\Sinau\\UAS - Pembelajaran Mesin\\yolov9\\traffic.mp4: 384x640 4 persons, 24 cars, 1 motorcycle, 4 buss, 817.1ms\n",
      "video 1/1 (247/313) C:\\Sinau\\UAS - Pembelajaran Mesin\\yolov9\\traffic.mp4: 384x640 6 persons, 24 cars, 1 motorcycle, 4 buss, 1 truck, 739.2ms\n",
      "video 1/1 (248/313) C:\\Sinau\\UAS - Pembelajaran Mesin\\yolov9\\traffic.mp4: 384x640 6 persons, 25 cars, 1 motorcycle, 4 buss, 1 truck, 620.5ms\n",
      "video 1/1 (249/313) C:\\Sinau\\UAS - Pembelajaran Mesin\\yolov9\\traffic.mp4: 384x640 6 persons, 26 cars, 1 motorcycle, 4 buss, 1 truck, 905.0ms\n",
      "video 1/1 (250/313) C:\\Sinau\\UAS - Pembelajaran Mesin\\yolov9\\traffic.mp4: 384x640 6 persons, 24 cars, 1 motorcycle, 3 buss, 1 truck, 777.4ms\n",
      "video 1/1 (251/313) C:\\Sinau\\UAS - Pembelajaran Mesin\\yolov9\\traffic.mp4: 384x640 6 persons, 23 cars, 1 motorcycle, 3 buss, 1 truck, 666.4ms\n",
      "video 1/1 (252/313) C:\\Sinau\\UAS - Pembelajaran Mesin\\yolov9\\traffic.mp4: 384x640 6 persons, 22 cars, 1 motorcycle, 3 buss, 1 truck, 688.1ms\n",
      "video 1/1 (253/313) C:\\Sinau\\UAS - Pembelajaran Mesin\\yolov9\\traffic.mp4: 384x640 5 persons, 22 cars, 1 motorcycle, 3 buss, 1 truck, 671.4ms\n",
      "video 1/1 (254/313) C:\\Sinau\\UAS - Pembelajaran Mesin\\yolov9\\traffic.mp4: 384x640 5 persons, 25 cars, 1 motorcycle, 4 buss, 1 truck, 716.3ms\n",
      "video 1/1 (255/313) C:\\Sinau\\UAS - Pembelajaran Mesin\\yolov9\\traffic.mp4: 384x640 7 persons, 23 cars, 1 motorcycle, 4 buss, 1 truck, 638.6ms\n",
      "video 1/1 (256/313) C:\\Sinau\\UAS - Pembelajaran Mesin\\yolov9\\traffic.mp4: 384x640 6 persons, 26 cars, 1 motorcycle, 4 buss, 1 truck, 679.8ms\n",
      "video 1/1 (257/313) C:\\Sinau\\UAS - Pembelajaran Mesin\\yolov9\\traffic.mp4: 384x640 5 persons, 25 cars, 1 motorcycle, 4 buss, 1 truck, 819.3ms\n",
      "video 1/1 (258/313) C:\\Sinau\\UAS - Pembelajaran Mesin\\yolov9\\traffic.mp4: 384x640 6 persons, 25 cars, 1 motorcycle, 4 buss, 537.0ms\n",
      "video 1/1 (259/313) C:\\Sinau\\UAS - Pembelajaran Mesin\\yolov9\\traffic.mp4: 384x640 5 persons, 24 cars, 1 motorcycle, 4 buss, 524.9ms\n",
      "video 1/1 (260/313) C:\\Sinau\\UAS - Pembelajaran Mesin\\yolov9\\traffic.mp4: 384x640 5 persons, 24 cars, 1 motorcycle, 4 buss, 515.6ms\n",
      "video 1/1 (261/313) C:\\Sinau\\UAS - Pembelajaran Mesin\\yolov9\\traffic.mp4: 384x640 4 persons, 24 cars, 1 motorcycle, 4 buss, 544.8ms\n",
      "video 1/1 (262/313) C:\\Sinau\\UAS - Pembelajaran Mesin\\yolov9\\traffic.mp4: 384x640 4 persons, 22 cars, 1 motorcycle, 4 buss, 519.3ms\n",
      "video 1/1 (263/313) C:\\Sinau\\UAS - Pembelajaran Mesin\\yolov9\\traffic.mp4: 384x640 6 persons, 22 cars, 1 motorcycle, 4 buss, 514.6ms\n",
      "video 1/1 (264/313) C:\\Sinau\\UAS - Pembelajaran Mesin\\yolov9\\traffic.mp4: 384x640 5 persons, 25 cars, 1 motorcycle, 4 buss, 448.6ms\n",
      "video 1/1 (265/313) C:\\Sinau\\UAS - Pembelajaran Mesin\\yolov9\\traffic.mp4: 384x640 5 persons, 24 cars, 1 motorcycle, 4 buss, 430.9ms\n",
      "video 1/1 (266/313) C:\\Sinau\\UAS - Pembelajaran Mesin\\yolov9\\traffic.mp4: 384x640 5 persons, 24 cars, 1 motorcycle, 4 buss, 442.5ms\n",
      "video 1/1 (267/313) C:\\Sinau\\UAS - Pembelajaran Mesin\\yolov9\\traffic.mp4: 384x640 6 persons, 27 cars, 1 motorcycle, 4 buss, 442.5ms\n",
      "video 1/1 (268/313) C:\\Sinau\\UAS - Pembelajaran Mesin\\yolov9\\traffic.mp4: 384x640 5 persons, 25 cars, 1 motorcycle, 4 buss, 441.1ms\n",
      "video 1/1 (269/313) C:\\Sinau\\UAS - Pembelajaran Mesin\\yolov9\\traffic.mp4: 384x640 6 persons, 25 cars, 1 motorcycle, 4 buss, 451.5ms\n",
      "video 1/1 (270/313) C:\\Sinau\\UAS - Pembelajaran Mesin\\yolov9\\traffic.mp4: 384x640 5 persons, 25 cars, 1 motorcycle, 4 buss, 446.6ms\n",
      "video 1/1 (271/313) C:\\Sinau\\UAS - Pembelajaran Mesin\\yolov9\\traffic.mp4: 384x640 6 persons, 25 cars, 1 motorcycle, 4 buss, 438.4ms\n",
      "video 1/1 (272/313) C:\\Sinau\\UAS - Pembelajaran Mesin\\yolov9\\traffic.mp4: 384x640 4 persons, 25 cars, 1 motorcycle, 4 buss, 453.9ms\n",
      "video 1/1 (273/313) C:\\Sinau\\UAS - Pembelajaran Mesin\\yolov9\\traffic.mp4: 384x640 4 persons, 26 cars, 1 motorcycle, 4 buss, 439.3ms\n",
      "video 1/1 (274/313) C:\\Sinau\\UAS - Pembelajaran Mesin\\yolov9\\traffic.mp4: 384x640 5 persons, 24 cars, 1 motorcycle, 4 buss, 445.2ms\n",
      "video 1/1 (275/313) C:\\Sinau\\UAS - Pembelajaran Mesin\\yolov9\\traffic.mp4: 384x640 4 persons, 25 cars, 1 motorcycle, 4 buss, 445.4ms\n",
      "video 1/1 (276/313) C:\\Sinau\\UAS - Pembelajaran Mesin\\yolov9\\traffic.mp4: 384x640 4 persons, 26 cars, 1 motorcycle, 4 buss, 441.7ms\n",
      "video 1/1 (277/313) C:\\Sinau\\UAS - Pembelajaran Mesin\\yolov9\\traffic.mp4: 384x640 4 persons, 26 cars, 1 motorcycle, 4 buss, 1 truck, 433.4ms\n",
      "video 1/1 (278/313) C:\\Sinau\\UAS - Pembelajaran Mesin\\yolov9\\traffic.mp4: 384x640 5 persons, 25 cars, 1 motorcycle, 4 buss, 439.0ms\n",
      "video 1/1 (279/313) C:\\Sinau\\UAS - Pembelajaran Mesin\\yolov9\\traffic.mp4: 384x640 4 persons, 24 cars, 1 motorcycle, 4 buss, 434.6ms\n",
      "video 1/1 (280/313) C:\\Sinau\\UAS - Pembelajaran Mesin\\yolov9\\traffic.mp4: 384x640 4 persons, 26 cars, 1 motorcycle, 4 buss, 437.4ms\n",
      "video 1/1 (281/313) C:\\Sinau\\UAS - Pembelajaran Mesin\\yolov9\\traffic.mp4: 384x640 3 persons, 25 cars, 1 motorcycle, 4 buss, 445.4ms\n",
      "video 1/1 (282/313) C:\\Sinau\\UAS - Pembelajaran Mesin\\yolov9\\traffic.mp4: 384x640 2 persons, 25 cars, 1 motorcycle, 4 buss, 453.1ms\n",
      "video 1/1 (283/313) C:\\Sinau\\UAS - Pembelajaran Mesin\\yolov9\\traffic.mp4: 384x640 3 persons, 24 cars, 1 motorcycle, 4 buss, 453.9ms\n",
      "video 1/1 (284/313) C:\\Sinau\\UAS - Pembelajaran Mesin\\yolov9\\traffic.mp4: 384x640 5 persons, 23 cars, 1 motorcycle, 4 buss, 438.5ms\n",
      "video 1/1 (285/313) C:\\Sinau\\UAS - Pembelajaran Mesin\\yolov9\\traffic.mp4: 384x640 5 persons, 23 cars, 1 motorcycle, 4 buss, 439.7ms\n",
      "video 1/1 (286/313) C:\\Sinau\\UAS - Pembelajaran Mesin\\yolov9\\traffic.mp4: 384x640 4 persons, 24 cars, 1 motorcycle, 4 buss, 438.8ms\n",
      "video 1/1 (287/313) C:\\Sinau\\UAS - Pembelajaran Mesin\\yolov9\\traffic.mp4: 384x640 5 persons, 23 cars, 1 motorcycle, 4 buss, 459.1ms\n",
      "video 1/1 (288/313) C:\\Sinau\\UAS - Pembelajaran Mesin\\yolov9\\traffic.mp4: 384x640 5 persons, 22 cars, 1 motorcycle, 4 buss, 439.5ms\n",
      "video 1/1 (289/313) C:\\Sinau\\UAS - Pembelajaran Mesin\\yolov9\\traffic.mp4: 384x640 5 persons, 24 cars, 1 motorcycle, 4 buss, 450.2ms\n",
      "video 1/1 (290/313) C:\\Sinau\\UAS - Pembelajaran Mesin\\yolov9\\traffic.mp4: 384x640 5 persons, 22 cars, 1 motorcycle, 4 buss, 1 truck, 438.7ms\n",
      "video 1/1 (291/313) C:\\Sinau\\UAS - Pembelajaran Mesin\\yolov9\\traffic.mp4: 384x640 5 persons, 22 cars, 1 motorcycle, 4 buss, 1 truck, 454.2ms\n",
      "video 1/1 (292/313) C:\\Sinau\\UAS - Pembelajaran Mesin\\yolov9\\traffic.mp4: 384x640 5 persons, 22 cars, 1 motorcycle, 4 buss, 454.8ms\n",
      "video 1/1 (293/313) C:\\Sinau\\UAS - Pembelajaran Mesin\\yolov9\\traffic.mp4: 384x640 4 persons, 22 cars, 1 motorcycle, 4 buss, 457.6ms\n",
      "video 1/1 (294/313) C:\\Sinau\\UAS - Pembelajaran Mesin\\yolov9\\traffic.mp4: 384x640 5 persons, 22 cars, 1 motorcycle, 4 buss, 525.8ms\n",
      "video 1/1 (295/313) C:\\Sinau\\UAS - Pembelajaran Mesin\\yolov9\\traffic.mp4: 384x640 4 persons, 21 cars, 1 motorcycle, 4 buss, 441.2ms\n",
      "video 1/1 (296/313) C:\\Sinau\\UAS - Pembelajaran Mesin\\yolov9\\traffic.mp4: 384x640 4 persons, 21 cars, 1 motorcycle, 4 buss, 429.2ms\n",
      "video 1/1 (297/313) C:\\Sinau\\UAS - Pembelajaran Mesin\\yolov9\\traffic.mp4: 384x640 5 persons, 21 cars, 1 motorcycle, 4 buss, 434.0ms\n",
      "video 1/1 (298/313) C:\\Sinau\\UAS - Pembelajaran Mesin\\yolov9\\traffic.mp4: 384x640 5 persons, 21 cars, 1 motorcycle, 4 buss, 1 truck, 432.2ms\n",
      "video 1/1 (299/313) C:\\Sinau\\UAS - Pembelajaran Mesin\\yolov9\\traffic.mp4: 384x640 6 persons, 21 cars, 1 motorcycle, 4 buss, 1 truck, 446.3ms\n",
      "video 1/1 (300/313) C:\\Sinau\\UAS - Pembelajaran Mesin\\yolov9\\traffic.mp4: 384x640 6 persons, 21 cars, 1 motorcycle, 4 buss, 1 truck, 461.2ms\n",
      "video 1/1 (301/313) C:\\Sinau\\UAS - Pembelajaran Mesin\\yolov9\\traffic.mp4: 384x640 6 persons, 20 cars, 1 motorcycle, 4 buss, 1 truck, 449.9ms\n",
      "video 1/1 (302/313) C:\\Sinau\\UAS - Pembelajaran Mesin\\yolov9\\traffic.mp4: 384x640 5 persons, 22 cars, 1 motorcycle, 4 buss, 1 truck, 436.5ms\n",
      "video 1/1 (303/313) C:\\Sinau\\UAS - Pembelajaran Mesin\\yolov9\\traffic.mp4: 384x640 5 persons, 23 cars, 1 motorcycle, 4 buss, 442.4ms\n",
      "video 1/1 (304/313) C:\\Sinau\\UAS - Pembelajaran Mesin\\yolov9\\traffic.mp4: 384x640 4 persons, 21 cars, 1 motorcycle, 4 buss, 1 truck, 449.6ms\n",
      "video 1/1 (305/313) C:\\Sinau\\UAS - Pembelajaran Mesin\\yolov9\\traffic.mp4: 384x640 5 persons, 21 cars, 1 motorcycle, 4 buss, 1 truck, 440.3ms\n",
      "video 1/1 (306/313) C:\\Sinau\\UAS - Pembelajaran Mesin\\yolov9\\traffic.mp4: 384x640 5 persons, 21 cars, 1 motorcycle, 4 buss, 460.5ms\n",
      "video 1/1 (307/313) C:\\Sinau\\UAS - Pembelajaran Mesin\\yolov9\\traffic.mp4: 384x640 6 persons, 22 cars, 1 motorcycle, 4 buss, 458.5ms\n",
      "video 1/1 (308/313) C:\\Sinau\\UAS - Pembelajaran Mesin\\yolov9\\traffic.mp4: 384x640 4 persons, 19 cars, 1 motorcycle, 4 buss, 479.8ms\n",
      "video 1/1 (309/313) C:\\Sinau\\UAS - Pembelajaran Mesin\\yolov9\\traffic.mp4: 384x640 2 persons, 20 cars, 1 motorcycle, 4 buss, 1 truck, 491.0ms\n",
      "video 1/1 (310/313) C:\\Sinau\\UAS - Pembelajaran Mesin\\yolov9\\traffic.mp4: 384x640 3 persons, 21 cars, 1 motorcycle, 4 buss, 2 trucks, 476.7ms\n",
      "video 1/1 (311/313) C:\\Sinau\\UAS - Pembelajaran Mesin\\yolov9\\traffic.mp4: 384x640 3 persons, 21 cars, 1 motorcycle, 4 buss, 1 truck, 509.8ms\n",
      "video 1/1 (312/313) C:\\Sinau\\UAS - Pembelajaran Mesin\\yolov9\\traffic.mp4: 384x640 3 persons, 22 cars, 1 motorcycle, 4 buss, 471.1ms\n",
      "video 1/1 (313/313) C:\\Sinau\\UAS - Pembelajaran Mesin\\yolov9\\traffic.mp4: 384x640 4 persons, 21 cars, 1 motorcycle, 4 buss, 1 truck, 634.0ms\n",
      "Speed: 0.6ms pre-process, 516.3ms inference, 1.5ms NMS per image at shape (1, 3, 640, 640)\n",
      "Results saved to \u001b[1mruns\\detect\\exp4\u001b[0m\n"
     ]
    }
   ],
   "source": [
    "!python detect.py --weights gelan-c.pt --source traffic.mp4 --device cpu"
   ]
  },
  {
   "cell_type": "code",
   "execution_count": null,
   "metadata": {},
   "outputs": [],
   "source": []
  }
 ],
 "metadata": {
  "kernelspec": {
   "display_name": "Python 3",
   "language": "python",
   "name": "python3"
  },
  "language_info": {
   "codemirror_mode": {
    "name": "ipython",
    "version": 3
   },
   "file_extension": ".py",
   "mimetype": "text/x-python",
   "name": "python",
   "nbconvert_exporter": "python",
   "pygments_lexer": "ipython3",
   "version": "3.11.0"
  }
 },
 "nbformat": 4,
 "nbformat_minor": 2
}
